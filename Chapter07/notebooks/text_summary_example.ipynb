{
 "cells": [
  {
   "cell_type": "code",
   "execution_count": 1,
   "id": "85b16019",
   "metadata": {},
   "outputs": [],
   "source": [
    "# import transformers \n",
    "# from transformers import T5Tokenizer,T5ForConditionalGeneration"
   ]
  },
  {
   "cell_type": "code",
   "execution_count": 2,
   "id": "4298aefb",
   "metadata": {},
   "outputs": [],
   "source": [
    "# tokenizer = T5Tokenizer.from_pretrained('t5-small') \n",
    "# model = T5ForConditionalGeneration.from_pretrained('t5-small')"
   ]
  },
  {
   "cell_type": "code",
   "execution_count": 3,
   "id": "0ccdbff0",
   "metadata": {},
   "outputs": [],
   "source": [
    "# def generate_text_summary(text): \n",
    "#     # Tokenize the input text \n",
    "#     input_ids = tokenizer.encode(text, return_tensors='pt') \n",
    "     \n",
    "#     # Set the model to generate summary \n",
    "#     summary_generation_task = 'summarization' \n",
    "#     model.model.config.task = summary_generation_task \n",
    "     \n",
    "#     # Generate summary \n",
    "#     summary_ids = model.generate(input_ids, max_length=1024, num_beams=4, early_stopping=True) \n",
    "     \n",
    "#     # Decode the summary \n",
    "#     summary = tokenizer.decode(summary_ids[0], skip_special_tokens=True) \n",
    "     \n",
    "#     return summary \n"
   ]
  },
  {
   "cell_type": "code",
   "execution_count": 4,
   "id": "aa9ac5ea",
   "metadata": {},
   "outputs": [
    {
     "name": "stderr",
     "output_type": "stream",
     "text": [
      "/opt/homebrew/Caskroom/miniforge/base/envs/mlewp-chapter09/lib/python3.10/site-packages/tqdm/auto.py:21: TqdmWarning: IProgress not found. Please update jupyter and ipywidgets. See https://ipywidgets.readthedocs.io/en/stable/user_install.html\n",
      "  from .autonotebook import tqdm as notebook_tqdm\n"
     ]
    }
   ],
   "source": [
    "from transformers import AutoTokenizer\n",
    "\n",
    "checkpoint = \"t5-small\"\n",
    "tokenizer = AutoTokenizer.from_pretrained(checkpoint)"
   ]
  },
  {
   "cell_type": "code",
   "execution_count": 5,
   "id": "4281388e",
   "metadata": {},
   "outputs": [],
   "source": [
    "prefix = \"summarize: \"\n",
    "\n",
    "\n",
    "def preprocess_function(examples):\n",
    "    inputs = [prefix + doc for doc in examples[\"text\"]]\n",
    "    model_inputs = tokenizer(inputs, max_length=1024, truncation=True)\n",
    "\n",
    "    labels = tokenizer(text_target=examples[\"summary\"], max_length=128, truncation=True)\n",
    "\n",
    "    model_inputs[\"labels\"] = labels[\"input_ids\"]\n",
    "    return model_inputs"
   ]
  },
  {
   "cell_type": "code",
   "execution_count": 6,
   "id": "9f825187",
   "metadata": {},
   "outputs": [],
   "source": [
    "text = \"summarize: The Inflation Reduction Act lowers prescription drug costs, health care costs, and energy costs. It's the most aggressive action on tackling the climate crisis in American history, which will lift up American workers and create good-paying, union jobs across the country. It'll lower the deficit and ask the ultra-wealthy and corporations to pay their fair share. And no one making under $400,000 per year will pay a penny more in taxes.\""
   ]
  },
  {
   "cell_type": "code",
   "execution_count": 8,
   "id": "5517e093",
   "metadata": {},
   "outputs": [
    {
     "name": "stderr",
     "output_type": "stream",
     "text": [
      "Downloading (…)lve/main/config.json: 100%|█| 1.39k/1.39k [00:00<00:00, 1.84MB/\n",
      "Downloading pytorch_model.bin: 100%|█████| 2.28G/2.28G [01:24<00:00, 27.0MB/s]\n",
      "Downloading (…)neration_config.json: 100%|████| 259/259 [00:00<00:00, 113kB/s]\n",
      "Downloading (…)okenizer_config.json: 100%|██| 87.0/87.0 [00:00<00:00, 125kB/s]\n",
      "Downloading (…)ve/main/spiece.model: 100%|█| 1.91M/1.91M [00:00<00:00, 4.48MB/\n",
      "Downloading (…)/main/tokenizer.json: 100%|█| 3.52M/3.52M [00:00<00:00, 7.22MB/\n",
      "Downloading (…)cial_tokens_map.json: 100%|██| 65.0/65.0 [00:00<00:00, 177kB/s]\n"
     ]
    }
   ],
   "source": [
    "from transformers import pipeline\n",
    "summarizer = pipeline(\"summarization\", model= \"google/pegasus-xsum\")\n"
   ]
  },
  {
   "cell_type": "code",
   "execution_count": 9,
   "id": "40d44126",
   "metadata": {},
   "outputs": [
    {
     "data": {
      "text/plain": [
       "[{'summary_text': 'President Barack Obama has signed into law the biggest overhaul of the US health care system in decades.'}]"
      ]
     },
     "execution_count": 9,
     "metadata": {},
     "output_type": "execute_result"
    }
   ],
   "source": [
    "summarizer(text)"
   ]
  },
  {
   "cell_type": "code",
   "execution_count": 14,
   "id": "36323803",
   "metadata": {},
   "outputs": [],
   "source": [
    "text = \"Customer: Hi, I am looking for some help regarding my recent purchase of a bouquet of flowers. ChatBot: Sure, how can I help you today?. Customer: I purchased a bouquet the other day, but they have not arrived. ChatBot: What is the order ID? Customer: 0123456. ChatBot: Please wait while I fetch the details of your order... It doesn't seem like there was an order placed as you desrcibed, are you sure of the details you have provided?\""
   ]
  },
  {
   "cell_type": "code",
   "execution_count": 15,
   "id": "cb2f8de8",
   "metadata": {},
   "outputs": [
    {
     "data": {
      "text/plain": [
       "[{'summary_text': 'This is a live chat conversation between a customer and a ChatBot.'}]"
      ]
     },
     "execution_count": 15,
     "metadata": {},
     "output_type": "execute_result"
    }
   ],
   "source": [
    "summarizer(text)"
   ]
  },
  {
   "cell_type": "code",
   "execution_count": null,
   "id": "d8363865",
   "metadata": {},
   "outputs": [],
   "source": []
  }
 ],
 "metadata": {
  "kernelspec": {
   "display_name": "Python [conda env:mlewp-chapter09] *",
   "language": "python",
   "name": "conda-env-mlewp-chapter09-py"
  },
  "language_info": {
   "codemirror_mode": {
    "name": "ipython",
    "version": 3
   },
   "file_extension": ".py",
   "mimetype": "text/x-python",
   "name": "python",
   "nbconvert_exporter": "python",
   "pygments_lexer": "ipython3",
   "version": "3.10.9"
  }
 },
 "nbformat": 4,
 "nbformat_minor": 5
}
