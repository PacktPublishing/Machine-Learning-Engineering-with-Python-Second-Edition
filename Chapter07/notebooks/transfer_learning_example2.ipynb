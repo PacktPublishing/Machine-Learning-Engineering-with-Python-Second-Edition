{
 "cells": [
  {
   "cell_type": "code",
   "execution_count": 1,
   "id": "5f598a8a",
   "metadata": {},
   "outputs": [],
   "source": [
    "# from datasets import load_dataset\n",
    "\n",
    "# #dataset = load_dataset(\"yelp_review_full\")\n",
    "# dataset = load_dataset(\"amazon_reviews_multi\", \"en\", \"train\")\n",
    "# dataset[\"train\"][100]\n",
    "\n",
    "#---\n",
    "# def tokenize_function(examples):\n",
    "#     return tokenizer(examples[\"text\"], padding=\"max_length\", truncation=True)\n",
    "\n",
    "#tokenized_datasets = dataset.map(tokenize_function, batched=True)\n",
    "\n",
    "#---\n",
    "#tokenized_datasets.set_format(\"torch\")\n",
    "\n",
    "#small_eval_dataset = tokenized_datasets[\"test\"].shuffle(seed=42).select(range(10))\n",
    "\n",
    "#tokenized_dataset = tokenized_dataset.remove_columns([\"review_body\"])\n",
    "\n",
    "# small_train_dataset = tokenized_datasets[\"train\"].shuffle(seed=42).select(range(1000))\n",
    "# small_eval_dataset = tokenized_datasets[\"test\"].shuffle(seed=42).select(range(1000))\n",
    "\n",
    "#---\n",
    "#eval_dataloader = DataLoader(small_eval_dataset, batch_size=8)\n"
   ]
  },
  {
   "cell_type": "code",
   "execution_count": 2,
   "id": "a0dfd2be",
   "metadata": {
    "scrolled": true
   },
   "outputs": [
    {
     "name": "stderr",
     "output_type": "stream",
     "text": [
      "/opt/homebrew/Caskroom/miniforge/base/envs/mlewp-chapter09/lib/python3.10/site-packages/tqdm/auto.py:21: TqdmWarning: IProgress not found. Please update jupyter and ipywidgets. See https://ipywidgets.readthedocs.io/en/stable/user_install.html\n",
      "  from .autonotebook import tqdm as notebook_tqdm\n"
     ]
    }
   ],
   "source": [
    "import datasets\n",
    "from datasets import load_dataset\n",
    "\n",
    "def fetch_dataset(\n",
    "    dataset_name: str=\"amazon_reviews_multi\",\n",
    "    configuration: str=\"en\",\n",
    "    split: str=\"train\"\n",
    ") -> datasets.arrow_dataset.Dataset:\n",
    "    '''\n",
    "    Fetch dataset from HuggingFace datasets server.\n",
    "    '''\n",
    "    dataset = load_dataset(dataset_name, configuration, split=split)\n",
    "    return dataset\n",
    "\n"
   ]
  },
  {
   "cell_type": "code",
   "execution_count": null,
   "id": "524708a2",
   "metadata": {},
   "outputs": [],
   "source": []
  },
  {
   "cell_type": "code",
   "execution_count": null,
   "id": "d0dce060",
   "metadata": {},
   "outputs": [],
   "source": []
  },
  {
   "cell_type": "code",
   "execution_count": 3,
   "id": "37e2a73a",
   "metadata": {
    "scrolled": false
   },
   "outputs": [],
   "source": [
    "import typing\n",
    "from transformers import AutoTokenizer\n",
    "\n",
    "def tokenize_dataset(\n",
    "    tokenizer: AutoTokenizer, \n",
    "    dataset: datasets.arrow_dataset.Dataset,\n",
    "    sample=True\n",
    ") -> datasets.arrow_dataset.Dataset:\n",
    "    '''\n",
    "    Tokenize the HuggingFace dataset object and format for use in laterPyTorch logic.\n",
    "    '''\n",
    "    tokenized_dataset = dataset.map(\n",
    "        lambda x: tokenizer(x[\"review_body\"], padding=\"max_length\", truncation=True),\n",
    "        batched=True\n",
    "    )\n",
    "    # Torch needs the target column to be named \"labels\"\n",
    "    tokenized_dataset = tokenized_dataset.rename_column(\"stars\", \"labels\")\n",
    "    \n",
    "    # We can format the dataset for Torch using this method.\n",
    "    tokenized_dataset.set_format(\n",
    "        type=\"torch\", \n",
    "        columns=[\"input_ids\", \"token_type_ids\", \"attention_mask\", \"labels\"]\n",
    "    )\n",
    "    # Let's downsample to speed things up for testing\n",
    "    if sample==True:\n",
    "        tokenized_dataset_small = tokenized_dataset.shuffle(seed=42).select(range(10))\n",
    "        return tokenized_dataset_small\n",
    "    else:\n",
    "        return tokenised_dataset"
   ]
  },
  {
   "cell_type": "code",
   "execution_count": 4,
   "id": "f7f31fa7",
   "metadata": {},
   "outputs": [],
   "source": [
    "from torch.utils.data import DataLoader\n",
    "\n",
    "def create_dataloader(\n",
    "    tokenized_dataset: datasets.arrow_dataset.Dataset,\n",
    "    batch_size: int = 16,\n",
    "    shuffle: bool = True\n",
    "):\n",
    "    dataloader = DataLoader(tokenized_dataset, shuffle=shuffle, batch_size=batch_size)\n",
    "    return dataloader\n",
    "\n",
    "from transformers import AutoModelForSequenceClassification\n",
    "from torch.optim import AdamW\n",
    "from transformers import get_scheduler\n",
    "\n",
    "def configure_scheduler_optimizer(\n",
    "    model: typing.Any,\n",
    "    dataloader: typing.Any,\n",
    "    learning_rate: float,\n",
    "    num_training_steps: int\n",
    ") -> tuple[typing.Any, typing.Any]:\n",
    "    '''\n",
    "    Return a learning scheduler for use in training using the AdamW optimizer\n",
    "    '''\n",
    "    optimizer = AdamW(model.parameters(), lr=learning_rate)\n",
    "    lr_scheduler = get_scheduler(\n",
    "        name=\"linear\", \n",
    "        optimizer=optimizer, \n",
    "        num_warmup_steps=0, \n",
    "        num_training_steps=num_training_steps\n",
    "    )\n",
    "    return lr_scheduler, optimizer\n",
    "\n",
    "import torch\n",
    "from tqdm.auto import tqdm\n",
    "\n",
    "def transfer_learn(\n",
    "    model: typing.Any, \n",
    "    dataloader: typing.Any,\n",
    "    learning_rate: float = 5e-5,\n",
    "    num_epochs: int = 5,\n",
    "    progress_bar: bool = True\n",
    ")-> typing.Any:\n",
    "\n",
    "    device = torch.device(\"cuda\") if torch.cuda.is_available() else\\\n",
    "        torch.device(\"cpu\")\n",
    "    model.to(device)\n",
    "    \n",
    "    num_training_steps = num_epochs * len(dataloader)\n",
    "\n",
    "    lr_scheduler, optimizer = configure_scheduler_optimizer(\n",
    "        model = model, \n",
    "        dataloader = dataloader,\n",
    "        learning_rate = learning_rate,\n",
    "        num_training_steps = num_training_steps\n",
    "    )\n",
    "    \n",
    "    if progress_bar:\n",
    "        progress_bar = tqdm(range(num_training_steps))\n",
    "    else:\n",
    "        pass\n",
    "\n",
    "    model.train()\n",
    "    for epoch in range(num_epochs):\n",
    "        for batch in dataloader:\n",
    "            batch = {k: v.to(device) for k, v in batch.items()}\n",
    "            outputs = model(**batch)\n",
    "            loss = outputs.loss\n",
    "            loss.backward()\n",
    "\n",
    "            optimizer.step()\n",
    "            lr_scheduler.step()\n",
    "            optimizer.zero_grad()\n",
    "            if progress_bar:\n",
    "                progress_bar.update(1)\n",
    "            else:\n",
    "                pass\n",
    "    return model\n"
   ]
  },
  {
   "cell_type": "code",
   "execution_count": 5,
   "id": "ab1e909e",
   "metadata": {},
   "outputs": [
    {
     "name": "stderr",
     "output_type": "stream",
     "text": [
      "Found cached dataset amazon_reviews_multi (/Users/apmcm/.cache/huggingface/datasets/amazon_reviews_multi/en/1.0.0/724e94f4b0c6c405ce7e476a6c5ef4f87db30799ad49f765094cf9770e0f7609)\n"
     ]
    },
    {
     "name": "stdout",
     "output_type": "stream",
     "text": [
      "{'language': 'en',\n",
      " 'product_category': 'sports',\n",
      " 'product_id': 'product_en_0610451',\n",
      " 'review_body': 'Two nights in the water tide to our dock in the lake..... I’d '\n",
      "                'say something liked this.',\n",
      " 'review_id': 'en_0143676',\n",
      " 'review_title': 'Let the picture tell you how go this is',\n",
      " 'reviewer_id': 'reviewer_en_0377453',\n",
      " 'stars': 1}\n"
     ]
    }
   ],
   "source": [
    "dataset = fetch_dataset()\n",
    "import pprint\n",
    "pprint.pprint(dataset[100])"
   ]
  },
  {
   "cell_type": "code",
   "execution_count": 6,
   "id": "f248964e",
   "metadata": {},
   "outputs": [
    {
     "name": "stderr",
     "output_type": "stream",
     "text": [
      "Loading cached processed dataset at /Users/apmcm/.cache/huggingface/datasets/amazon_reviews_multi/en/1.0.0/724e94f4b0c6c405ce7e476a6c5ef4f87db30799ad49f765094cf9770e0f7609/cache-e8cc4a26d4442ff6.arrow\n",
      "Loading cached shuffled indices for dataset at /Users/apmcm/.cache/huggingface/datasets/amazon_reviews_multi/en/1.0.0/724e94f4b0c6c405ce7e476a6c5ef4f87db30799ad49f765094cf9770e0f7609/cache-7bed94b504cfb269.arrow\n",
      "Some weights of the model checkpoint at bert-base-cased were not used when initializing BertForSequenceClassification: ['cls.seq_relationship.weight', 'cls.predictions.decoder.weight', 'cls.predictions.transform.dense.weight', 'cls.predictions.transform.LayerNorm.bias', 'cls.predictions.transform.LayerNorm.weight', 'cls.seq_relationship.bias', 'cls.predictions.bias', 'cls.predictions.transform.dense.bias']\n",
      "- This IS expected if you are initializing BertForSequenceClassification from the checkpoint of a model trained on another task or with another architecture (e.g. initializing a BertForSequenceClassification model from a BertForPreTraining model).\n",
      "- This IS NOT expected if you are initializing BertForSequenceClassification from the checkpoint of a model that you expect to be exactly identical (initializing a BertForSequenceClassification model from a BertForSequenceClassification model).\n",
      "Some weights of BertForSequenceClassification were not initialized from the model checkpoint at bert-base-cased and are newly initialized: ['classifier.bias', 'classifier.weight']\n",
      "You should probably TRAIN this model on a down-stream task to be able to use it for predictions and inference.\n",
      "100%|███████████████████████████████████████████| 5/5 [00:56<00:00, 11.26s/it]\n"
     ]
    }
   ],
   "source": [
    "\n",
    "tokenizer = AutoTokenizer.from_pretrained(\"bert-base-cased\")\n",
    "tokenized_dataset = tokenize_dataset(tokenizer=tokenizer, dataset=dataset, sample=True)\n",
    "dataloader = create_dataloader(tokenized_dataset=tokenized_dataset)\n",
    "model = AutoModelForSequenceClassification.from_pretrained(\"bert-base-cased\", num_labels=6) # 5 stars\n",
    "transfer_learned_model = transfer_learn(\n",
    "    model = model,\n",
    "    dataloader=dataloader\n",
    ")"
   ]
  },
  {
   "cell_type": "code",
   "execution_count": 7,
   "id": "e70d044e",
   "metadata": {},
   "outputs": [
    {
     "name": "stderr",
     "output_type": "stream",
     "text": [
      "Found cached dataset amazon_reviews_multi (/Users/apmcm/.cache/huggingface/datasets/amazon_reviews_multi/en/1.0.0/724e94f4b0c6c405ce7e476a6c5ef4f87db30799ad49f765094cf9770e0f7609)\n",
      "                                                                              \r"
     ]
    },
    {
     "data": {
      "text/plain": [
       "{'accuracy': 0.3}"
      ]
     },
     "execution_count": 7,
     "metadata": {},
     "output_type": "execute_result"
    }
   ],
   "source": [
    "import evaluate\n",
    "\n",
    "device = torch.device(\"cuda\") if torch.cuda.is_available() else torch.device(\"cpu\")\n",
    "metric = evaluate.load(\"accuracy\")\n",
    "model.eval()\n",
    "\n",
    "eval_dataset = fetch_dataset(split=\"test\")\n",
    "tokenized_eval_dataset = tokenize_dataset(tokenizer=tokenizer, dataset=eval_dataset, sample=True)\n",
    "eval_dataloader = create_dataloader(\n",
    "    tokenized_dataset=tokenized_eval_dataset\n",
    "    )\n",
    "\n",
    "for batch in eval_dataloader:#eval_dataloader:\n",
    "    batch = {k: v.to(device) for k, v in batch.items()}\n",
    "    with torch.no_grad():\n",
    "        outputs = model(**batch)\n",
    "\n",
    "    logits = outputs.logits\n",
    "    predictions = torch.argmax(logits, dim=-1)\n",
    "    metric.add_batch(predictions=predictions, references=batch[\"labels\"])\n",
    "\n",
    "metric.compute()"
   ]
  },
  {
   "cell_type": "code",
   "execution_count": 8,
   "id": "c3bbbc2b",
   "metadata": {},
   "outputs": [],
   "source": [
    "def test_func(**kwargs):\n",
    "    return kwargs['test']"
   ]
  },
  {
   "cell_type": "code",
   "execution_count": null,
   "id": "df690adf",
   "metadata": {},
   "outputs": [],
   "source": []
  },
  {
   "cell_type": "code",
   "execution_count": null,
   "id": "6739f4ae",
   "metadata": {},
   "outputs": [],
   "source": []
  }
 ],
 "metadata": {
  "kernelspec": {
   "display_name": "Python [conda env:mlewp-chapter09] *",
   "language": "python",
   "name": "conda-env-mlewp-chapter09-py"
  },
  "language_info": {
   "codemirror_mode": {
    "name": "ipython",
    "version": 3
   },
   "file_extension": ".py",
   "mimetype": "text/x-python",
   "name": "python",
   "nbconvert_exporter": "python",
   "pygments_lexer": "ipython3",
   "version": "3.10.9"
  }
 },
 "nbformat": 4,
 "nbformat_minor": 5
}
